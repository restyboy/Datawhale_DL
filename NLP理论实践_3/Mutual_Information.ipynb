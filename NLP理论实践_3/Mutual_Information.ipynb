{
  "nbformat": 4,
  "nbformat_minor": 0,
  "metadata": {
    "colab": {
      "name": "Mutual_Information.ipynb",
      "version": "0.3.2",
      "provenance": []
    },
    "kernelspec": {
      "name": "python3",
      "display_name": "Python 3"
    }
  },
  "cells": [
    {
      "cell_type": "code",
      "metadata": {
        "id": "S1W4P550SO9c",
        "colab_type": "code",
        "colab": {
          "base_uri": "https://localhost:8080/",
          "height": 71
        },
        "outputId": "639ef122-10f1-4609-e96b-e9048055ab32"
      },
      "source": [
        "from sklearn import metrics as mr\n",
        "\n",
        "# 互信息(Mutual Information)\n",
        "labels_true = [0, 0, 0, 1, 1, 1]\n",
        "labels_pred = [0, 0, 1, 1, 2, 2]\n",
        "MI = mr.adjusted_mutual_info_score(labels_true, labels_pred)  \n",
        "print(\"Matual Information = \"+str(MI))"
      ],
      "execution_count": 3,
      "outputs": [
        {
          "output_type": "stream",
          "text": [
            "Matual Information = 0.2250422831983088\n"
          ],
          "name": "stdout"
        },
        {
          "output_type": "stream",
          "text": [
            "/usr/local/lib/python3.6/dist-packages/sklearn/metrics/cluster/supervised.py:746: FutureWarning: The behavior of AMI will change in version 0.22. To match the behavior of 'v_measure_score', AMI will use average_method='arithmetic' by default.\n",
            "  FutureWarning)\n"
          ],
          "name": "stderr"
        }
      ]
    }
  ]
}