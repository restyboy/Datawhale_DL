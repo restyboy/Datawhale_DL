{
  "nbformat": 4,
  "nbformat_minor": 0,
  "metadata": {
    "colab": {
      "name": "TF-IDF.ipynb",
      "version": "0.3.2",
      "provenance": []
    },
    "kernelspec": {
      "name": "python3",
      "display_name": "Python 3"
    }
  },
  "cells": [
    {
      "cell_type": "code",
      "metadata": {
        "id": "8tJRxHizQUuh",
        "colab_type": "code",
        "colab": {
          "base_uri": "https://localhost:8080/",
          "height": 431
        },
        "outputId": "b2ece99e-a4fb-424b-fbe6-4dd5ccc9b3b3"
      },
      "source": [
        "from sklearn.feature_extraction.text import TfidfTransformer  \n",
        "from sklearn.feature_extraction.text import CountVectorizer  \n",
        "\n",
        "corpus=[\"I come to China to travel\", \n",
        "    \"This is a car polupar in China\",          \n",
        "    \"I love tea and Apple \",   \n",
        "    \"The work is to write some papers in science\"] \n",
        "\n",
        "vectorizer=CountVectorizer()\n",
        "\n",
        "transformer = TfidfTransformer()\n",
        "tfidf = transformer.fit_transform(vectorizer.fit_transform(corpus))  \n",
        "print(tfidf)"
      ],
      "execution_count": 2,
      "outputs": [
        {
          "output_type": "stream",
          "text": [
            "  (0, 16)\t0.4424621378947393\n",
            "  (0, 15)\t0.697684463383976\n",
            "  (0, 4)\t0.4424621378947393\n",
            "  (0, 3)\t0.348842231691988\n",
            "  (1, 14)\t0.45338639737285463\n",
            "  (1, 9)\t0.45338639737285463\n",
            "  (1, 6)\t0.3574550433419527\n",
            "  (1, 5)\t0.3574550433419527\n",
            "  (1, 3)\t0.3574550433419527\n",
            "  (1, 2)\t0.45338639737285463\n",
            "  (2, 12)\t0.5\n",
            "  (2, 7)\t0.5\n",
            "  (2, 1)\t0.5\n",
            "  (2, 0)\t0.5\n",
            "  (3, 18)\t0.3565798233381452\n",
            "  (3, 17)\t0.3565798233381452\n",
            "  (3, 15)\t0.2811316284405006\n",
            "  (3, 13)\t0.3565798233381452\n",
            "  (3, 11)\t0.3565798233381452\n",
            "  (3, 10)\t0.3565798233381452\n",
            "  (3, 8)\t0.3565798233381452\n",
            "  (3, 6)\t0.2811316284405006\n",
            "  (3, 5)\t0.2811316284405006\n"
          ],
          "name": "stdout"
        }
      ]
    }
  ]
}