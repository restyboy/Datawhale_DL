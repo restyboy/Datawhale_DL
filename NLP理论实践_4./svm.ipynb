{
  "nbformat": 4,
  "nbformat_minor": 0,
  "metadata": {
    "colab": {
      "name": "Untitled5.ipynb",
      "version": "0.3.2",
      "provenance": []
    },
    "kernelspec": {
      "name": "python3",
      "display_name": "Python 3"
    }
  },
  "cells": [
    {
      "cell_type": "code",
      "metadata": {
        "id": "bJcy57l8x3Dw",
        "colab_type": "code",
        "colab": {
          "base_uri": "https://localhost:8080/",
          "height": 109
        },
        "outputId": "d2dcb7ff-a0cb-4af0-9712-8cf652ef91eb"
      },
      "source": [
        "import pandas as pd\n",
        "from sklearn.feature_extraction.text import CountVectorizer, TfidfVectorizer\n",
        "from sklearn.model_selection import train_test_split\n",
        "from sklearn.svm import SVC\n",
        "from sklearn.metrics import classification_report\n",
        "from sklearn.model_selection import *\n",
        " \n",
        "# 导入数据\n",
        "train_data= pd.read_csv('/cnews.train.txt', names=['title', 'content'], sep='\\t', engine='python', encoding='UTF-8', skiprows=1) # (50000, 2)\n",
        "test_data = pd.read_csv('/cnews.test.txt', names=['title', 'content'], sep='\\t',engine='python',encoding='UTF-8', skiprows=1) # (10000, 2)\n",
        "val_data = pd.read_csv('/cnews.val.txt', names=['title', 'content'], sep='\\t',engine='python',encoding='UTF-8', skiprows=1) # (5000, 2)\n",
        " \n",
        "x_train = train_data['content']\n",
        "x_test = test_data['content']\n",
        "x_val = val_data['content']\n",
        " \n",
        "y_train  = train_data['title']\n",
        "y_test = test_data['title']\n",
        "y_val  = val_data['title']\n",
        "# print(y_val)\n",
        "###################################################\n",
        "#############处理样本#################################\n",
        " \n",
        "## 默认不去停用词的向量化\n",
        "count_vec = CountVectorizer()\n",
        "x_count_train = count_vec.fit_transform(x_train )\n",
        "x_count_test = count_vec.transform(x_test )\n",
        " \n",
        "## 去除停用词\n",
        "count_stop_vec = CountVectorizer(analyzer='word', stop_words='english')\n",
        "x_count_stop_train = count_stop_vec.fit_transform(x_train)\n",
        "x_count_stop_test = count_stop_vec.transform(x_test)\n",
        " \n",
        "## 模型训练\n",
        "mnb_count = SVC()\n",
        "mnb_count.fit(x_count_train, y_train)\n",
        "mnb_count_y_predict = mnb_count.predict(x_count_test)\n",
        "mnb_count.score(x_count_test, y_test)\n",
        " \n",
        "## TF−IDF处理后在训练\n",
        "## 默认配置不去除停用词\n",
        "tfid_vec = TfidfVectorizer()\n",
        "x_tfid_train = tfid_vec.fit_transform(x_train)\n",
        "x_tfid_test = tfid_vec.transform(x_test)\n",
        " \n",
        "## 模型训练\n",
        "mnb_tfid = SVC()\n",
        "mnb_tfid.fit(x_tfid_train, y_train)\n",
        "mnb_tfid_y_predict = mnb_tfid.predict(x_tfid_test)\n",
        "mnb_tfid.score(x_tfid_test, y_test)"
      ],
      "execution_count": 0,
      "outputs": [
        {
          "output_type": "stream",
          "text": [
            "/usr/local/lib/python3.6/dist-packages/sklearn/svm/base.py:193: FutureWarning: The default value of gamma will change from 'auto' to 'scale' in version 0.22 to account better for unscaled features. Set gamma explicitly to 'auto' or 'scale' to avoid this warning.\n",
            "  \"avoid this warning.\", FutureWarning)\n",
            "/usr/local/lib/python3.6/dist-packages/sklearn/svm/base.py:193: FutureWarning: The default value of gamma will change from 'auto' to 'scale' in version 0.22 to account better for unscaled features. Set gamma explicitly to 'auto' or 'scale' to avoid this warning.\n",
            "  \"avoid this warning.\", FutureWarning)\n"
          ],
          "name": "stderr"
        }
      ]
    }
  ]
}