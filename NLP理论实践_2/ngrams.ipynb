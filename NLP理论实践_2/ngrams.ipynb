{
  "nbformat": 4,
  "nbformat_minor": 0,
  "metadata": {
    "colab": {
      "name": "Untitled1.ipynb",
      "version": "0.3.2",
      "provenance": [],
      "collapsed_sections": []
    },
    "kernelspec": {
      "name": "python3",
      "display_name": "Python 3"
    }
  },
  "cells": [
    {
      "cell_type": "code",
      "metadata": {
        "id": "HqKk0MZ4tLc6",
        "colab_type": "code",
        "colab": {}
      },
      "source": [
        "import nltk\n",
        "from nltk.util import ngrams\n",
        "from nltk.corpus import alpino\n",
        "unigrams = ngrams(alpino.words(), 1)"
      ],
      "execution_count": 0,
      "outputs": []
    },
    {
      "cell_type": "code",
      "metadata": {
        "id": "kcAyqfQLtmFW",
        "colab_type": "code",
        "outputId": "2322a997-5d3f-488c-cc29-611eb1ccbe8d",
        "colab": {
          "base_uri": "https://localhost:8080/",
          "height": 197
        }
      },
      "source": [
        "import collections\n",
        "word_count = collections.Counter(unigrams)\n",
        "word_count_sort = word_count.most_common(10)\n",
        "word_count_sort"
      ],
      "execution_count": 32,
      "outputs": [
        {
          "output_type": "execute_result",
          "data": {
            "text/plain": [
              "[(('de',), 7688),\n",
              " (('.',), 6503),\n",
              " ((',',), 5385),\n",
              " (('van',), 4372),\n",
              " (('het',), 3249),\n",
              " (('een',), 3033),\n",
              " (('in',), 2783),\n",
              " (('en',), 2438),\n",
              " (('&quot;',), 1786),\n",
              " (('te',), 1432)]"
            ]
          },
          "metadata": {
            "tags": []
          },
          "execution_count": 32
        }
      ]
    },
    {
      "cell_type": "code",
      "metadata": {
        "id": "BdVYERMqvvme",
        "colab_type": "code",
        "outputId": "93e024f9-9c59-4e65-afdf-519b92577280",
        "colab": {
          "base_uri": "https://localhost:8080/",
          "height": 269
        }
      },
      "source": [
        "import matplotlib.pyplot as plt\n",
        "d = {v[0]:v[1] for v in word_count_sort}\n",
        "x = [str(v)[1:-2] for v in d.keys()]\n",
        "plt.plot(x, d.values())\n",
        "plt.show()"
      ],
      "execution_count": 33,
      "outputs": [
        {
          "output_type": "display_data",
          "data": {
            "image/png": "[encoded data removed]",
            "text/plain": [
              "<Figure size 432x288 with 1 Axes>"
            ]
          },
          "metadata": {
            "tags": []
          }
        }
      ]
    },
    {
      "cell_type": "code",
      "metadata": {
        "id": "FkuD-JkPkP09",
        "colab_type": "code",
        "colab": {
          "base_uri": "https://localhost:8080/",
          "height": 197
        },
        "outputId": "61250b09-5023-4dce-f7c4-e5fccbda6b90"
      },
      "source": [
        "from nltk.util import bigrams\n",
        "douigrams = bigrams(alpino.words())\n",
        "word_count = collections.Counter(douigrams)\n",
        "word_count_sort = word_count.most_common(10)\n",
        "word_count_sort"
      ],
      "execution_count": 34,
      "outputs": [
        {
          "output_type": "execute_result",
          "data": {
            "text/plain": [
              "[(('van', 'de'), 1426),\n",
              " (('.', 'De'), 1128),\n",
              " (('in', 'de'), 671),\n",
              " ((',', 'die'), 526),\n",
              " (('van', 'het'), 484),\n",
              " (('.', 'Het'), 479),\n",
              " (('.', '&quot;'), 451),\n",
              " ((',', 'dat'), 443),\n",
              " (('in', 'het'), 373),\n",
              " (('op', 'de'), 338)]"
            ]
          },
          "metadata": {
            "tags": []
          },
          "execution_count": 34
        }
      ]
    },
    {
      "cell_type": "code",
      "metadata": {
        "id": "4IZyRpSjk6Ud",
        "colab_type": "code",
        "colab": {
          "base_uri": "https://localhost:8080/",
          "height": 269
        },
        "outputId": "ed4b7085-ffaf-48c9-d660-db6868f535fc"
      },
      "source": [
        "d = {v[0]:v[1] for v in word_count_sort}\n",
        "x = [str(v)[1:-1] for v in d.keys()]\n",
        "plt.plot(x, d.values())\n",
        "plt.show()"
      ],
      "execution_count": 35,
      "outputs": [
        {
          "output_type": "display_data",
          "data": {
            "image/png": "[encoded data removed]",
            "text/plain": [
              "<Figure size 432x288 with 1 Axes>"
            ]
          },
          "metadata": {
            "tags": []
          }
        }
      ]
    },
    {
      "cell_type": "code",
      "metadata": {
        "id": "6LTzhMiJwQDV",
        "colab_type": "code",
        "outputId": "a447fc7f-91b2-44aa-ee1d-ff87cb61d837",
        "colab": {
          "base_uri": "https://localhost:8080/",
          "height": 89
        }
      },
      "source": [
        "import jieba\n",
        " \n",
        "# 全模式\n",
        "text = \"我来到北京清华大学\"\n",
        "seg_list = jieba.cut(text, cut_all=True)\n",
        "print(u\"[全模式]: \", \"/ \".join(seg_list))\n",
        " \n",
        "# 精确模式\n",
        "seg_list = jieba.cut(text, cut_all=False)\n",
        "print(u\"[精确模式]: \", \"/ \".join(seg_list))\n",
        " \n",
        "# 默认是精确模式\n",
        "seg_list = jieba.cut(text)\n",
        "print(u\"[默认模式]: \", \"/ \".join(seg_list))\n",
        " \n",
        "# 搜索引擎模式\n",
        "seg_list = jieba.cut_for_search(text)\n",
        "print(u\"[搜索引擎模式]: \", \"/ \".join(seg_list))"
      ],
      "execution_count": 36,
      "outputs": [
        {
          "output_type": "stream",
          "text": [
            "[全模式]:  我/ 来到/ 北京/ 清华/ 清华大学/ 华大/ 大学\n",
            "[精确模式]:  我/ 来到/ 北京/ 清华大学\n",
            "[默认模式]:  我/ 来到/ 北京/ 清华大学\n",
            "[搜索引擎模式]:  我/ 来到/ 北京/ 清华/ 华大/ 大学/ 清华大学\n"
          ],
          "name": "stdout"
        }
      ]
    },
    {
      "cell_type": "code",
      "metadata": {
        "id": "t0iGPHH64Akj",
        "colab_type": "code",
        "colab": {
          "base_uri": "https://localhost:8080/",
          "height": 35
        },
        "outputId": "21a1c250-ed54-43b2-a785-6d743fa75526"
      },
      "source": [
        "import jieba\n",
        " \n",
        "#新词识别  “杭研”并没有在词典中,但是也被Viterbi算法识别出来了\n",
        "seg_list = jieba.cut(\"他来到了网易杭研大厦\")\n",
        "print (u\"[新词识别]: \", \"/ \".join(seg_list))"
      ],
      "execution_count": 37,
      "outputs": [
        {
          "output_type": "stream",
          "text": [
            "[新词识别]:  他/ 来到/ 了/ 网易/ 杭研/ 大厦\n"
          ],
          "name": "stdout"
        }
      ]
    },
    {
      "cell_type": "code",
      "metadata": {
        "id": "qo5md1Eglx0-",
        "colab_type": "code",
        "colab": {
          "base_uri": "https://localhost:8080/",
          "height": 71
        },
        "outputId": "6dd4db02-559a-45aa-e109-47a5035f46ca"
      },
      "source": [
        "import jieba\n",
        " \n",
        "text = \"故宫的著名景点包括乾清宫、太和殿和黄琉璃瓦等\"\n",
        " \n",
        "# 全模式\n",
        "seg_list = jieba.cut(text, cut_all=True)\n",
        "print(u\"[全模式]: \", \"/ \".join(seg_list))\n",
        " \n",
        "# 精确模式\n",
        "seg_list = jieba.cut(text, cut_all=False)\n",
        "print(u\"[精确模式]: \", \"/ \".join(seg_list))\n",
        " \n",
        "# 搜索引擎模式\n",
        "seg_list = jieba.cut_for_search(text)\n",
        "print(u\"[搜索引擎模式]: \", \"/ \".join(seg_list))\n"
      ],
      "execution_count": 38,
      "outputs": [
        {
          "output_type": "stream",
          "text": [
            "[全模式]:  故宫/ 的/ 著名/ 著名景点/ 景点/ 包括/ 乾/ 清宫/ / / 太和/ 太和殿/ 和/ 黄/ 琉璃/ 琉璃瓦/ 等\n",
            "[精确模式]:  故宫/ 的/ 著名景点/ 包括/ 乾/ 清宫/ 、/ 太和殿/ 和/ 黄/ 琉璃瓦/ 等\n",
            "[搜索引擎模式]:  故宫/ 的/ 著名/ 景点/ 著名景点/ 包括/ 乾/ 清宫/ 、/ 太和/ 太和殿/ 和/ 黄/ 琉璃/ 琉璃瓦/ 等\n"
          ],
          "name": "stdout"
        }
      ]
    },
    {
      "cell_type": "code",
      "metadata": {
        "id": "HK_7EkrHm-9V",
        "colab_type": "code",
        "colab": {
          "base_uri": "https://localhost:8080/",
          "height": 53
        },
        "outputId": "8c46d29a-550b-4d65-92e3-b09da1f6a4fe"
      },
      "source": [
        "import jieba\n",
        "import jieba.analyse\n",
        "tags = jieba.analyse.extract_tags(text, topK=5)\n",
        "print (u\"关键词:\")\n",
        "print (\" \".join(tags))"
      ],
      "execution_count": 39,
      "outputs": [
        {
          "output_type": "stream",
          "text": [
            "关键词:\n",
            "著名景点 太和殿 琉璃瓦 故宫 清宫\n"
          ],
          "name": "stdout"
        }
      ]
    },
    {
      "cell_type": "code",
      "metadata": {
        "id": "pZuIPE-_nNc9",
        "colab_type": "code",
        "colab": {
          "base_uri": "https://localhost:8080/",
          "height": 35
        },
        "outputId": "aeb6803c-bafe-436d-8cbd-01d4b30d8c01"
      },
      "source": [
        "\n",
        "import jieba\n",
        " \n",
        " \n",
        "# 去除停用词\n",
        "stopwords = {}.fromkeys(['的', '包括', '等', '是'])\n",
        "text = \"故宫的著名景点包括乾清宫、太和殿和午门等。其中乾清宫非常精美，午门是紫禁城的正门。\"\n",
        "# 精确模式\n",
        "segs = jieba.cut(text, cut_all=False)\n",
        "final = ''\n",
        "for seg in segs:\n",
        "    if seg not in stopwords:\n",
        "            final += seg\n",
        "print (final)\n",
        " \n",
        "seg_list = jieba.cut(final, cut_all=False)\n",
        "\n"
      ],
      "execution_count": 40,
      "outputs": [
        {
          "output_type": "stream",
          "text": [
            "故宫著名景点乾清宫、太和殿和午门。其中乾清宫非常精美，午门紫禁城正门。\n"
          ],
          "name": "stdout"
        }
      ]
    },
    {
      "cell_type": "code",
      "metadata": {
        "id": "G9QpXXLQnSmO",
        "colab_type": "code",
        "colab": {}
      },
      "source": [
        "def build_vocab(train_dir, vocab_dir, vocab_size=5000):\n",
        "    \"\"\"根据训练集构建词汇表，存储\"\"\"\n",
        "    data_train, _ = read_file(train_dir)\n",
        " \n",
        "    all_data = []\n",
        "    for content in data_train:\n",
        "        all_data.extend(content)\n",
        " \n",
        "    counter = Counter(all_data)\n",
        "    count_pairs = counter.most_common(vocab_size - 1)\n",
        "    words, _ = list(zip(*count_pairs))\n",
        "    # 添加一个 <PAD> 来将所有文本pad为同一长度\n",
        "    words = ['<PAD>'] + list(words)\n",
        "    open_file(vocab_dir, mode='w').write('\\n'.join(words) + '\\n')"
      ],
      "execution_count": 0,
      "outputs": []
    },
    {
      "cell_type": "code",
      "metadata": {
        "id": "3aQuQ8vina4V",
        "colab_type": "code",
        "colab": {
          "base_uri": "https://localhost:8080/",
          "height": 467
        },
        "outputId": "36925e5b-87d0-4fd6-813a-baaa2043b695"
      },
      "source": [
        "import jieba\n",
        "import pandas as pd\n",
        "from sklearn.feature_extraction.text import CountVectorizer\n",
        " \n",
        " \n",
        "# 读取停用词\n",
        "def read_stopword(filename):\n",
        "    stopword = []\n",
        "    fp = open(filename, 'r')\n",
        "    for line in fp.readlines():\n",
        "        stopword.append(line.replace('\\n', ''))\n",
        "    fp.close()\n",
        "    return stopword\n",
        " \n",
        " \n",
        "# 切分数据，并删除停用词\n",
        "def cut_data(data, stopword):\n",
        "    words = []\n",
        "    for content in data['content']:\n",
        "        word = list(jieba.cut(content))\n",
        "        for w in list(set(word) & set(stopword)):\n",
        "            while w in word:\n",
        "                word.remove(w)\n",
        "        words.append(' '.join(word))\n",
        "    data['content'] = words\n",
        "    return data\n",
        " \n",
        " \n",
        "# 获取单词列表\n",
        "def word_list(data):\n",
        "    all_word = []\n",
        "    for word in data['content']:\n",
        "        all_word.extend(word)\n",
        "    all_word = list(set(all_word))\n",
        "    return all_word\n",
        " \n",
        " \n",
        "# 计算文本向量\n",
        "def text_vec(data):\n",
        "    count_vec = CountVectorizer(max_features=300, min_df=2)\n",
        "    count_vec.fit_transform(data['content'])\n",
        "    fea_vec = count_vec.transform(data['content']).toarray()\n",
        "    return fea_vec\n",
        " \n",
        " \n",
        "if __name__ == '__main__':\n",
        "    data = pd.read_csv('./cnews/test.txt', names=['title', 'content'], sep='\\t')  # (10000, 2)\n",
        " \n",
        "    stopword = read_stopword('./cnews/stopword.txt')\n",
        "    data = cut_data(data, stopword)\n",
        " \n",
        "    fea_vec = text_vec(data)\n",
        "    print(fea_vec)"
      ],
      "execution_count": 42,
      "outputs": [
        {
          "output_type": "error",
          "ename": "FileNotFoundError",
          "evalue": "ignored",
          "traceback": [
            "\u001b[0;31m---------------------------------------------------------------------------\u001b[0m",
            "\u001b[0;31mFileNotFoundError\u001b[0m                         Traceback (most recent call last)",
            "\u001b[0;32m<ipython-input-42-f73da4e27854>\u001b[0m in \u001b[0;36m<module>\u001b[0;34m()\u001b[0m\n\u001b[1;32m     45\u001b[0m \u001b[0;34m\u001b[0m\u001b[0m\n\u001b[1;32m     46\u001b[0m \u001b[0;32mif\u001b[0m \u001b[0m__name__\u001b[0m \u001b[0;34m==\u001b[0m \u001b[0;34m'__main__'\u001b[0m\u001b[0;34m:\u001b[0m\u001b[0;34m\u001b[0m\u001b[0;34m\u001b[0m\u001b[0m\n\u001b[0;32m---> 47\u001b[0;31m     \u001b[0mdata\u001b[0m \u001b[0;34m=\u001b[0m \u001b[0mpd\u001b[0m\u001b[0;34m.\u001b[0m\u001b[0mread_csv\u001b[0m\u001b[0;34m(\u001b[0m\u001b[0;34m'./cnews/test.txt'\u001b[0m\u001b[0;34m,\u001b[0m \u001b[0mnames\u001b[0m\u001b[0;34m=\u001b[0m\u001b[0;34m[\u001b[0m\u001b[0;34m'title'\u001b[0m\u001b[0;34m,\u001b[0m \u001b[0;34m'content'\u001b[0m\u001b[0;34m]\u001b[0m\u001b[0;34m,\u001b[0m \u001b[0msep\u001b[0m\u001b[0;34m=\u001b[0m\u001b[0;34m'\\t'\u001b[0m\u001b[0;34m)\u001b[0m  \u001b[0;31m# (10000, 2)\u001b[0m\u001b[0;34m\u001b[0m\u001b[0;34m\u001b[0m\u001b[0m\n\u001b[0m\u001b[1;32m     48\u001b[0m \u001b[0;34m\u001b[0m\u001b[0m\n\u001b[1;32m     49\u001b[0m     \u001b[0mstopword\u001b[0m \u001b[0;34m=\u001b[0m \u001b[0mread_stopword\u001b[0m\u001b[0;34m(\u001b[0m\u001b[0;34m'./cnews/stopword.txt'\u001b[0m\u001b[0;34m)\u001b[0m\u001b[0;34m\u001b[0m\u001b[0;34m\u001b[0m\u001b[0m\n",
            "\u001b[0;32m/usr/local/lib/python3.6/dist-packages/pandas/io/parsers.py\u001b[0m in \u001b[0;36mparser_f\u001b[0;34m(filepath_or_buffer, sep, delimiter, header, names, index_col, usecols, squeeze, prefix, mangle_dupe_cols, dtype, engine, converters, true_values, false_values, skipinitialspace, skiprows, skipfooter, nrows, na_values, keep_default_na, na_filter, verbose, skip_blank_lines, parse_dates, infer_datetime_format, keep_date_col, date_parser, dayfirst, iterator, chunksize, compression, thousands, decimal, lineterminator, quotechar, quoting, doublequote, escapechar, comment, encoding, dialect, tupleize_cols, error_bad_lines, warn_bad_lines, delim_whitespace, low_memory, memory_map, float_precision)\u001b[0m\n\u001b[1;32m    700\u001b[0m                     skip_blank_lines=skip_blank_lines)\n\u001b[1;32m    701\u001b[0m \u001b[0;34m\u001b[0m\u001b[0m\n\u001b[0;32m--> 702\u001b[0;31m         \u001b[0;32mreturn\u001b[0m \u001b[0m_read\u001b[0m\u001b[0;34m(\u001b[0m\u001b[0mfilepath_or_buffer\u001b[0m\u001b[0;34m,\u001b[0m \u001b[0mkwds\u001b[0m\u001b[0;34m)\u001b[0m\u001b[0;34m\u001b[0m\u001b[0;34m\u001b[0m\u001b[0m\n\u001b[0m\u001b[1;32m    703\u001b[0m \u001b[0;34m\u001b[0m\u001b[0m\n\u001b[1;32m    704\u001b[0m     \u001b[0mparser_f\u001b[0m\u001b[0;34m.\u001b[0m\u001b[0m__name__\u001b[0m \u001b[0;34m=\u001b[0m \u001b[0mname\u001b[0m\u001b[0;34m\u001b[0m\u001b[0;34m\u001b[0m\u001b[0m\n",
            "\u001b[0;32m/usr/local/lib/python3.6/dist-packages/pandas/io/parsers.py\u001b[0m in \u001b[0;36m_read\u001b[0;34m(filepath_or_buffer, kwds)\u001b[0m\n\u001b[1;32m    427\u001b[0m \u001b[0;34m\u001b[0m\u001b[0m\n\u001b[1;32m    428\u001b[0m     \u001b[0;31m# Create the parser.\u001b[0m\u001b[0;34m\u001b[0m\u001b[0;34m\u001b[0m\u001b[0;34m\u001b[0m\u001b[0m\n\u001b[0;32m--> 429\u001b[0;31m     \u001b[0mparser\u001b[0m \u001b[0;34m=\u001b[0m \u001b[0mTextFileReader\u001b[0m\u001b[0;34m(\u001b[0m\u001b[0mfilepath_or_buffer\u001b[0m\u001b[0;34m,\u001b[0m \u001b[0;34m**\u001b[0m\u001b[0mkwds\u001b[0m\u001b[0;34m)\u001b[0m\u001b[0;34m\u001b[0m\u001b[0;34m\u001b[0m\u001b[0m\n\u001b[0m\u001b[1;32m    430\u001b[0m \u001b[0;34m\u001b[0m\u001b[0m\n\u001b[1;32m    431\u001b[0m     \u001b[0;32mif\u001b[0m \u001b[0mchunksize\u001b[0m \u001b[0;32mor\u001b[0m \u001b[0miterator\u001b[0m\u001b[0;34m:\u001b[0m\u001b[0;34m\u001b[0m\u001b[0;34m\u001b[0m\u001b[0m\n",
            "\u001b[0;32m/usr/local/lib/python3.6/dist-packages/pandas/io/parsers.py\u001b[0m in \u001b[0;36m__init__\u001b[0;34m(self, f, engine, **kwds)\u001b[0m\n\u001b[1;32m    893\u001b[0m             \u001b[0mself\u001b[0m\u001b[0;34m.\u001b[0m\u001b[0moptions\u001b[0m\u001b[0;34m[\u001b[0m\u001b[0;34m'has_index_names'\u001b[0m\u001b[0;34m]\u001b[0m \u001b[0;34m=\u001b[0m \u001b[0mkwds\u001b[0m\u001b[0;34m[\u001b[0m\u001b[0;34m'has_index_names'\u001b[0m\u001b[0;34m]\u001b[0m\u001b[0;34m\u001b[0m\u001b[0;34m\u001b[0m\u001b[0m\n\u001b[1;32m    894\u001b[0m \u001b[0;34m\u001b[0m\u001b[0m\n\u001b[0;32m--> 895\u001b[0;31m         \u001b[0mself\u001b[0m\u001b[0;34m.\u001b[0m\u001b[0m_make_engine\u001b[0m\u001b[0;34m(\u001b[0m\u001b[0mself\u001b[0m\u001b[0;34m.\u001b[0m\u001b[0mengine\u001b[0m\u001b[0;34m)\u001b[0m\u001b[0;34m\u001b[0m\u001b[0;34m\u001b[0m\u001b[0m\n\u001b[0m\u001b[1;32m    896\u001b[0m \u001b[0;34m\u001b[0m\u001b[0m\n\u001b[1;32m    897\u001b[0m     \u001b[0;32mdef\u001b[0m \u001b[0mclose\u001b[0m\u001b[0;34m(\u001b[0m\u001b[0mself\u001b[0m\u001b[0;34m)\u001b[0m\u001b[0;34m:\u001b[0m\u001b[0;34m\u001b[0m\u001b[0;34m\u001b[0m\u001b[0m\n",
            "\u001b[0;32m/usr/local/lib/python3.6/dist-packages/pandas/io/parsers.py\u001b[0m in \u001b[0;36m_make_engine\u001b[0;34m(self, engine)\u001b[0m\n\u001b[1;32m   1120\u001b[0m     \u001b[0;32mdef\u001b[0m \u001b[0m_make_engine\u001b[0m\u001b[0;34m(\u001b[0m\u001b[0mself\u001b[0m\u001b[0;34m,\u001b[0m \u001b[0mengine\u001b[0m\u001b[0;34m=\u001b[0m\u001b[0;34m'c'\u001b[0m\u001b[0;34m)\u001b[0m\u001b[0;34m:\u001b[0m\u001b[0;34m\u001b[0m\u001b[0;34m\u001b[0m\u001b[0m\n\u001b[1;32m   1121\u001b[0m         \u001b[0;32mif\u001b[0m \u001b[0mengine\u001b[0m \u001b[0;34m==\u001b[0m \u001b[0;34m'c'\u001b[0m\u001b[0;34m:\u001b[0m\u001b[0;34m\u001b[0m\u001b[0;34m\u001b[0m\u001b[0m\n\u001b[0;32m-> 1122\u001b[0;31m             \u001b[0mself\u001b[0m\u001b[0;34m.\u001b[0m\u001b[0m_engine\u001b[0m \u001b[0;34m=\u001b[0m \u001b[0mCParserWrapper\u001b[0m\u001b[0;34m(\u001b[0m\u001b[0mself\u001b[0m\u001b[0;34m.\u001b[0m\u001b[0mf\u001b[0m\u001b[0;34m,\u001b[0m \u001b[0;34m**\u001b[0m\u001b[0mself\u001b[0m\u001b[0;34m.\u001b[0m\u001b[0moptions\u001b[0m\u001b[0;34m)\u001b[0m\u001b[0;34m\u001b[0m\u001b[0;34m\u001b[0m\u001b[0m\n\u001b[0m\u001b[1;32m   1123\u001b[0m         \u001b[0;32melse\u001b[0m\u001b[0;34m:\u001b[0m\u001b[0;34m\u001b[0m\u001b[0;34m\u001b[0m\u001b[0m\n\u001b[1;32m   1124\u001b[0m             \u001b[0;32mif\u001b[0m \u001b[0mengine\u001b[0m \u001b[0;34m==\u001b[0m \u001b[0;34m'python'\u001b[0m\u001b[0;34m:\u001b[0m\u001b[0;34m\u001b[0m\u001b[0;34m\u001b[0m\u001b[0m\n",
            "\u001b[0;32m/usr/local/lib/python3.6/dist-packages/pandas/io/parsers.py\u001b[0m in \u001b[0;36m__init__\u001b[0;34m(self, src, **kwds)\u001b[0m\n\u001b[1;32m   1851\u001b[0m         \u001b[0mkwds\u001b[0m\u001b[0;34m[\u001b[0m\u001b[0;34m'usecols'\u001b[0m\u001b[0;34m]\u001b[0m \u001b[0;34m=\u001b[0m \u001b[0mself\u001b[0m\u001b[0;34m.\u001b[0m\u001b[0musecols\u001b[0m\u001b[0;34m\u001b[0m\u001b[0;34m\u001b[0m\u001b[0m\n\u001b[1;32m   1852\u001b[0m \u001b[0;34m\u001b[0m\u001b[0m\n\u001b[0;32m-> 1853\u001b[0;31m         \u001b[0mself\u001b[0m\u001b[0;34m.\u001b[0m\u001b[0m_reader\u001b[0m \u001b[0;34m=\u001b[0m \u001b[0mparsers\u001b[0m\u001b[0;34m.\u001b[0m\u001b[0mTextReader\u001b[0m\u001b[0;34m(\u001b[0m\u001b[0msrc\u001b[0m\u001b[0;34m,\u001b[0m \u001b[0;34m**\u001b[0m\u001b[0mkwds\u001b[0m\u001b[0;34m)\u001b[0m\u001b[0;34m\u001b[0m\u001b[0;34m\u001b[0m\u001b[0m\n\u001b[0m\u001b[1;32m   1854\u001b[0m         \u001b[0mself\u001b[0m\u001b[0;34m.\u001b[0m\u001b[0munnamed_cols\u001b[0m \u001b[0;34m=\u001b[0m \u001b[0mself\u001b[0m\u001b[0;34m.\u001b[0m\u001b[0m_reader\u001b[0m\u001b[0;34m.\u001b[0m\u001b[0munnamed_cols\u001b[0m\u001b[0;34m\u001b[0m\u001b[0;34m\u001b[0m\u001b[0m\n\u001b[1;32m   1855\u001b[0m \u001b[0;34m\u001b[0m\u001b[0m\n",
            "\u001b[0;32mpandas/_libs/parsers.pyx\u001b[0m in \u001b[0;36mpandas._libs.parsers.TextReader.__cinit__\u001b[0;34m()\u001b[0m\n",
            "\u001b[0;32mpandas/_libs/parsers.pyx\u001b[0m in \u001b[0;36mpandas._libs.parsers.TextReader._setup_parser_source\u001b[0;34m()\u001b[0m\n",
            "\u001b[0;31mFileNotFoundError\u001b[0m: [Errno 2] File b'./cnews/test.txt' does not exist: b'./cnews/test.txt'"
          ]
        }
      ]
    },
    {
      "cell_type": "code",
      "metadata": {
        "colab_type": "code",
        "id": "_UjlxLIAsg1O",
        "colab": {}
      },
      "source": [
        "# coding: utf-8\n",
        "import jieba\n",
        "import pandas as pd\n",
        "from sklearn.feature_extraction.text import CountVectorizer\n",
        " \n",
        " \n",
        "# 读取停用词\n",
        "def read_stopword(filename):\n",
        "    stopword = []\n",
        "    fp = open(filename, 'r', encoding=\"unicode_escape\")\n",
        "    for line in fp.readlines():\n",
        "        stopword.append(line.replace('\\n', ''))\n",
        "    fp.close()\n",
        "    return stopword\n",
        " \n",
        " \n",
        "# 切分数据，并删除停用词\n",
        "def cut_data(data, stopword):\n",
        "    words = []\n",
        "    for content in data['content']:\n",
        "        word = list(jieba.cut(content))\n",
        "        for w in list(set(word) & set(stopword)):\n",
        "            while w in word:\n",
        "                word.remove(w)\n",
        "        words.append(' '.join(word))\n",
        "    data['content'] = words\n",
        "    return data\n",
        " \n",
        " \n",
        "# 获取单词列表\n",
        "def word_list(data):\n",
        "    all_word = []\n",
        "    for word in data['content']:\n",
        "        all_word.extend(word)\n",
        "    all_word = list(set(all_word))\n",
        "    return all_word\n",
        " \n",
        " \n",
        "# 计算文本向量\n",
        "def text_vec(data):\n",
        "    count_vec = CountVectorizer(max_features=300, min_df=2)\n",
        "    count_vec.fit_transform(data['content'])\n",
        "    fea_vec = count_vec.transform(data['content']).toarray()\n",
        "    return fea_vec\n",
        " \n",
        " \n",
        "if __name__ == '__main__':\n",
        "    data = pd.read_csv('../text.txt', names=['title', 'content'], sep='\\t', encoding=\"unicode_escape\")  # (10000, 2)\n",
        " \n",
        "    stopword = read_stopword('../stopword.txt')\n",
        "    data = cut_data(data, stopword)\n",
        " \n",
        "    fea_vec = text_vec(data)\n",
        "    print(fea_vec)"
      ],
      "execution_count": 0,
      "outputs": []
    },
    {
      "cell_type": "code",
      "metadata": {
        "id": "OmEGGCcEuyQn",
        "colab_type": "code",
        "colab": {
          "base_uri": "https://localhost:8080/",
          "height": 35
        },
        "outputId": "da8e59f5-7a53-4a98-d483-6bacfb536c06"
      },
      "source": [
        "stopword"
      ],
      "execution_count": 61,
      "outputs": [
        {
          "output_type": "execute_result",
          "data": {
            "text/plain": [
              "['µÄ °üÀ¨ µÈ ÊÇ']"
            ]
          },
          "metadata": {
            "tags": []
          },
          "execution_count": 61
        }
      ]
    }
  ]
}