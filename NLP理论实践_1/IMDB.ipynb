{
  "nbformat": 4,
  "nbformat_minor": 0,
  "metadata": {
    "colab": {
      "name": "IMDB.ipynb",
      "version": "0.3.2",
      "provenance": [],
      "collapsed_sections": []
    },
    "kernelspec": {
      "name": "python3",
      "display_name": "Python 3"
    }
  },
  "cells": [
    {
      "cell_type": "code",
      "metadata": {
        "id": "zjhKZVMcEGH4",
        "colab_type": "code",
        "outputId": "178c371d-0194-402a-e72d-a8ab57273741",
        "colab": {
          "base_uri": "https://localhost:8080/",
          "height": 34
        }
      },
      "source": [
        "import tensorflow as tf\n",
        "from tensorflow import keras\n",
        "import numpy as np\n",
        "\n",
        "print(tf.__version__)"
      ],
      "execution_count": 0,
      "outputs": [
        {
          "output_type": "stream",
          "text": [
            "1.14.0-rc1\n"
          ],
          "name": "stdout"
        }
      ]
    },
    {
      "cell_type": "code",
      "metadata": {
        "id": "6CdmqhdCEOtx",
        "colab_type": "code",
        "colab": {}
      },
      "source": [
        "imdb = keras.datasets.imdb\n",
        "\n",
        "(train_data, train_labels), (test_data, test_labels) = imdb.load_data('imdb.npz',num_words=15000)"
      ],
      "execution_count": 0,
      "outputs": []
    },
    {
      "cell_type": "code",
      "metadata": {
        "id": "auVLSHR0HC2A",
        "colab_type": "code",
        "outputId": "99d4be4b-0db7-4ecb-ca58-9d2711f62ea6",
        "colab": {
          "base_uri": "https://localhost:8080/",
          "height": 34
        }
      },
      "source": [
        "print(\"Training entries: {}, labels: {}\".format(len(train_data), len(train_labels)))"
      ],
      "execution_count": 0,
      "outputs": [
        {
          "output_type": "stream",
          "text": [
            "Training entries: 25000, labels: 25000\n"
          ],
          "name": "stdout"
        }
      ]
    },
    {
      "cell_type": "code",
      "metadata": {
        "id": "tGuQ9zE0S6Pa",
        "colab_type": "code",
        "outputId": "10c0310a-173e-40de-87b1-45772a66383a",
        "colab": {
          "base_uri": "https://localhost:8080/",
          "height": 34
        }
      },
      "source": [
        "print(\"Training entries: {}, labels: {}\".format(len(test_data), len(test_data)))"
      ],
      "execution_count": 0,
      "outputs": [
        {
          "output_type": "stream",
          "text": [
            "Training entries: 25000, labels: 25000\n"
          ],
          "name": "stdout"
        }
      ]
    },
    {
      "cell_type": "code",
      "metadata": {
        "id": "GD1HhNOJHFMi",
        "colab_type": "code",
        "outputId": "c7231e8a-7317-46ab-dd57-c5a9b3fb829e",
        "colab": {
          "base_uri": "https://localhost:8080/",
          "height": 54
        }
      },
      "source": [
        "print(train_data[0])"
      ],
      "execution_count": 0,
      "outputs": [
        {
          "output_type": "stream",
          "text": [
            "[1, 14, 22, 16, 43, 530, 973, 1622, 1385, 65, 458, 4468, 66, 3941, 4, 173, 36, 256, 5, 25, 100, 43, 838, 112, 50, 670, 2, 9, 35, 480, 284, 5, 150, 4, 172, 112, 167, 2, 336, 385, 39, 4, 172, 4536, 1111, 17, 546, 38, 13, 447, 4, 192, 50, 16, 6, 147, 2025, 19, 14, 22, 4, 1920, 4613, 469, 4, 22, 71, 87, 12, 16, 43, 530, 38, 76, 15, 13, 1247, 4, 22, 17, 515, 17, 12, 16, 626, 18, 2, 5, 62, 386, 12, 8, 316, 8, 106, 5, 4, 2223, 5244, 16, 480, 66, 3785, 33, 4, 130, 12, 16, 38, 619, 5, 25, 124, 51, 36, 135, 48, 25, 1415, 33, 6, 22, 12, 215, 28, 77, 52, 5, 14, 407, 16, 82, 10311, 8, 4, 107, 117, 5952, 15, 256, 4, 2, 7, 3766, 5, 723, 36, 71, 43, 530, 476, 26, 400, 317, 46, 7, 4, 12118, 1029, 13, 104, 88, 4, 381, 15, 297, 98, 32, 2071, 56, 26, 141, 6, 194, 7486, 18, 4, 226, 22, 21, 134, 476, 26, 480, 5, 144, 30, 5535, 18, 51, 36, 28, 224, 92, 25, 104, 4, 226, 65, 16, 38, 1334, 88, 12, 16, 283, 5, 16, 4472, 113, 103, 32, 15, 16, 5345, 19, 178, 32]\n"
          ],
          "name": "stdout"
        }
      ]
    },
    {
      "cell_type": "code",
      "metadata": {
        "id": "Nz6Rl6LLHHVI",
        "colab_type": "code",
        "outputId": "e8b1247f-1188-4c78-d599-29f50a2ed309",
        "colab": {
          "base_uri": "https://localhost:8080/",
          "height": 34
        }
      },
      "source": [
        "len(train_data[0]), len(train_data[1]),len(train_data[2])"
      ],
      "execution_count": 0,
      "outputs": [
        {
          "output_type": "execute_result",
          "data": {
            "text/plain": [
              "(218, 189, 141)"
            ]
          },
          "metadata": {
            "tags": []
          },
          "execution_count": 489
        }
      ]
    },
    {
      "cell_type": "code",
      "metadata": {
        "id": "DiN1d8PNHKQI",
        "colab_type": "code",
        "colab": {}
      },
      "source": [
        "# A dictionary mapping words to an integer index\n",
        "word_index = imdb.get_word_index()\n",
        "\n",
        "# The first indices are reserved\n",
        "word_index = {k:(v+3) for k,v in word_index.items()} \n",
        "word_index[\"<PAD>\"] = 0\n",
        "word_index[\"<START>\"] = 1\n",
        "word_index[\"<UNK>\"] = 2  # unknown\n",
        "word_index[\"<UNUSED>\"] = 3\n",
        "\n",
        "reverse_word_index = dict([(value, key) for (key, value) in word_index.items()])\n",
        "\n",
        "def decode_review(text):\n",
        "    return ' '.join([reverse_word_index.get(i, '?') for i in text])"
      ],
      "execution_count": 0,
      "outputs": []
    },
    {
      "cell_type": "code",
      "metadata": {
        "id": "wOUtptsaHNMc",
        "colab_type": "code",
        "outputId": "18e9a3e9-dfb3-4d69-e055-9549530209d8",
        "colab": {
          "base_uri": "https://localhost:8080/",
          "height": 54
        }
      },
      "source": [
        "decode_review(train_data[20])"
      ],
      "execution_count": 0,
      "outputs": [
        {
          "output_type": "execute_result",
          "data": {
            "text/plain": [
              "\"<START> shown in australia as <UNK> this incredibly bad movie is so bad that you become <UNK> and have to watch it to the end just to see if it could get any worse and it does the storyline is so predictable it seems written by a high school <UNK> class the sets are pathetic but marginally better than the <UNK> and the acting is wooden br br the infant <UNK> seems to have been stolen from the props <UNK> of <UNK> <UNK> there didn't seem to be a single original idea in the whole movie br br i found this movie to be so bad that i laughed most of the way through br br malcolm mcdowell should hang his head in shame he obviously needed the money\""
            ]
          },
          "metadata": {
            "tags": []
          },
          "execution_count": 491
        }
      ]
    },
    {
      "cell_type": "code",
      "metadata": {
        "id": "B0GHR5u1HP_6",
        "colab_type": "code",
        "colab": {}
      },
      "source": [
        "train_data = keras.preprocessing.sequence.pad_sequences(train_data,\n",
        "                                                        value=word_index[\"<PAD>\"],\n",
        "                                                        padding='post',\n",
        "                                                        maxlen=256)\n",
        "\n",
        "test_data = keras.preprocessing.sequence.pad_sequences(test_data,\n",
        "                                                       value=word_index[\"<PAD>\"],\n",
        "                                                       padding='post',\n",
        "                                                       maxlen=256)"
      ],
      "execution_count": 0,
      "outputs": []
    },
    {
      "cell_type": "code",
      "metadata": {
        "id": "NfCEhIMoUiII",
        "colab_type": "code",
        "outputId": "4c3e3e00-0790-43c0-9d06-54c3f6eb68df",
        "colab": {
          "base_uri": "https://localhost:8080/",
          "height": 504
        }
      },
      "source": [
        "train_data[0]"
      ],
      "execution_count": 0,
      "outputs": [
        {
          "output_type": "execute_result",
          "data": {
            "text/plain": [
              "array([    1,    14,    22,    16,    43,   530,   973,  1622,  1385,\n",
              "          65,   458,  4468,    66,  3941,     4,   173,    36,   256,\n",
              "           5,    25,   100,    43,   838,   112,    50,   670,     2,\n",
              "           9,    35,   480,   284,     5,   150,     4,   172,   112,\n",
              "         167,     2,   336,   385,    39,     4,   172,  4536,  1111,\n",
              "          17,   546,    38,    13,   447,     4,   192,    50,    16,\n",
              "           6,   147,  2025,    19,    14,    22,     4,  1920,  4613,\n",
              "         469,     4,    22,    71,    87,    12,    16,    43,   530,\n",
              "          38,    76,    15,    13,  1247,     4,    22,    17,   515,\n",
              "          17,    12,    16,   626,    18,     2,     5,    62,   386,\n",
              "          12,     8,   316,     8,   106,     5,     4,  2223,  5244,\n",
              "          16,   480,    66,  3785,    33,     4,   130,    12,    16,\n",
              "          38,   619,     5,    25,   124,    51,    36,   135,    48,\n",
              "          25,  1415,    33,     6,    22,    12,   215,    28,    77,\n",
              "          52,     5,    14,   407,    16,    82, 10311,     8,     4,\n",
              "         107,   117,  5952,    15,   256,     4,     2,     7,  3766,\n",
              "           5,   723,    36,    71,    43,   530,   476,    26,   400,\n",
              "         317,    46,     7,     4, 12118,  1029,    13,   104,    88,\n",
              "           4,   381,    15,   297,    98,    32,  2071,    56,    26,\n",
              "         141,     6,   194,  7486,    18,     4,   226,    22,    21,\n",
              "         134,   476,    26,   480,     5,   144,    30,  5535,    18,\n",
              "          51,    36,    28,   224,    92,    25,   104,     4,   226,\n",
              "          65,    16,    38,  1334,    88,    12,    16,   283,     5,\n",
              "          16,  4472,   113,   103,    32,    15,    16,  5345,    19,\n",
              "         178,    32,     0,     0,     0,     0,     0,     0,     0,\n",
              "           0,     0,     0,     0,     0,     0,     0,     0,     0,\n",
              "           0,     0,     0,     0,     0,     0,     0,     0,     0,\n",
              "           0,     0,     0,     0,     0,     0,     0,     0,     0,\n",
              "           0,     0,     0,     0], dtype=int32)"
            ]
          },
          "metadata": {
            "tags": []
          },
          "execution_count": 493
        }
      ]
    },
    {
      "cell_type": "code",
      "metadata": {
        "id": "JexHoUGXHSJ6",
        "colab_type": "code",
        "outputId": "fb4e21ba-8c9d-4f22-e9f6-c4e85ea0052b",
        "colab": {
          "base_uri": "https://localhost:8080/",
          "height": 34
        }
      },
      "source": [
        "len(train_data[0]), len(train_data[1])"
      ],
      "execution_count": 0,
      "outputs": [
        {
          "output_type": "execute_result",
          "data": {
            "text/plain": [
              "(256, 256)"
            ]
          },
          "metadata": {
            "tags": []
          },
          "execution_count": 494
        }
      ]
    },
    {
      "cell_type": "code",
      "metadata": {
        "id": "3nC4dpRhHWXq",
        "colab_type": "code",
        "outputId": "949d7892-18d1-49eb-9b92-e4f72c3d46ea",
        "colab": {
          "base_uri": "https://localhost:8080/",
          "height": 319
        }
      },
      "source": [
        "# input shape is the vocabulary count used for the movie reviews (10,000 words)\n",
        "vocab_size = 15000\n",
        "\n",
        "model = keras.Sequential()\n",
        "model.add(keras.layers.Embedding(vocab_size, 16))\n",
        "model.add(keras.layers.GlobalAveragePooling1D())\n",
        "#model.add(keras.layers.GlobalMaxPooling1D())\n",
        "model.add(keras.layers.Dense(16, activation=tf.nn.relu))\n",
        "model.add(keras.layers.Dropout(0.5))\n",
        "model.add(keras.layers.Dense(1, activation=tf.nn.sigmoid))\n",
        "\n",
        "model.summary()"
      ],
      "execution_count": 0,
      "outputs": [
        {
          "output_type": "stream",
          "text": [
            "Model: \"sequential_19\"\n",
            "_________________________________________________________________\n",
            "Layer (type)                 Output Shape              Param #   \n",
            "=================================================================\n",
            "embedding_19 (Embedding)     (None, None, 16)          240000    \n",
            "_________________________________________________________________\n",
            "global_average_pooling1d_19  (None, 16)                0         \n",
            "_________________________________________________________________\n",
            "dense_38 (Dense)             (None, 16)                272       \n",
            "_________________________________________________________________\n",
            "dropout_19 (Dropout)         (None, 16)                0         \n",
            "_________________________________________________________________\n",
            "dense_39 (Dense)             (None, 1)                 17        \n",
            "=================================================================\n",
            "Total params: 240,289\n",
            "Trainable params: 240,289\n",
            "Non-trainable params: 0\n",
            "_________________________________________________________________\n"
          ],
          "name": "stdout"
        }
      ]
    },
    {
      "cell_type": "code",
      "metadata": {
        "id": "xFkfNWf5HZA5",
        "colab_type": "code",
        "colab": {}
      },
      "source": [
        "model.compile(optimizer=\"adam\",\n",
        "              loss='binary_crossentropy',\n",
        "              metrics=['accuracy'])"
      ],
      "execution_count": 0,
      "outputs": []
    },
    {
      "cell_type": "code",
      "metadata": {
        "id": "qIde0ExqHb9w",
        "colab_type": "code",
        "colab": {}
      },
      "source": [
        "x_val = train_data[:10000]\n",
        "partial_x_train = train_data[10000:]\n",
        "\n",
        "y_val = train_labels[:10000]\n",
        "partial_y_train = train_labels[10000:]"
      ],
      "execution_count": 0,
      "outputs": []
    },
    {
      "cell_type": "code",
      "metadata": {
        "id": "NwafS-3qHenp",
        "colab_type": "code",
        "colab": {}
      },
      "source": [
        "#每一Epochs都进行F1计算\n",
        "import numpy as np\n",
        "from tensorflow.keras.callbacks import Callback\n",
        "from keras.engine.training import Model\n",
        "from sklearn.metrics import confusion_matrix, f1_score, precision_score, recall_score\n",
        "class Metrics(Callback):\n",
        "    #def __init__(self, validation_data=None):\n",
        "    #    super()\n",
        "    #    if validation_data is not None:\n",
        "    #      self.validation_data = validation_data\n",
        "      \n",
        "    def set_validation_data(self, validation_data):\n",
        "        self.validation_data = validation_data  \n",
        "     \n",
        "    def on_train_begin(self, logs={}):\n",
        "        self.val_f1s = []\n",
        "        self.val_recalls = []\n",
        "        self.val_precisions = []\n",
        " \n",
        "      \n",
        "    def on_epoch_end(self, epoch, logs={}):\n",
        "        val_predict = (np.asarray(self.model.predict(self.validation_data[0]))).round()\n",
        "        val_targ = self.validation_data[1]\n",
        "        _val_f1 = f1_score(val_targ, val_predict,average='weighted')\n",
        "        _val_recall = recall_score(val_targ, val_predict,average='weighted')\n",
        "        _val_precision = precision_score(val_targ, val_predict,average='weighted')\n",
        "        self.val_f1s.append(_val_f1)\n",
        "        self.val_recalls.append(_val_recall)\n",
        "        self.val_precisions.append(_val_precision)\n",
        "        print( ' — val_f1: %f — val_precision: %f — val_recall %f' %(_val_f1, _val_precision, _val_recall))\n",
        "        return\n",
        "    \n",
        "metrics = Metrics()\n",
        "metrics.set_validation_data((x_val, y_val))"
      ],
      "execution_count": 0,
      "outputs": []
    },
    {
      "cell_type": "code",
      "metadata": {
        "id": "BNeIAMBaHfci",
        "colab_type": "code",
        "outputId": "c5d6f260-5246-4fb1-91ef-9c16865a0416",
        "colab": {
          "base_uri": "https://localhost:8080/",
          "height": 1898
        }
      },
      "source": [
        "from keras.callbacks import EarlyStopping\n",
        "earlystopping= keras.callbacks.EarlyStopping(monitor='val_acc', patience=8, verbose=0, mode='max')\n",
        "np.random.seed(7)\n",
        "history = model.fit(partial_x_train,\n",
        "                    partial_y_train,\n",
        "                    epochs=90,\n",
        "                    batch_size=512,\n",
        "                    validation_data=(x_val, y_val),\n",
        "                    callbacks=[metrics,earlystopping],\n",
        "                    verbose=1)"
      ],
      "execution_count": 0,
      "outputs": [
        {
          "output_type": "stream",
          "text": [
            "Train on 15000 samples, validate on 10000 samples\n",
            "Epoch 1/90\n",
            "14848/15000 [============================>.] - ETA: 0s - loss: 0.6919 - acc: 0.5544 — val_f1: 0.588696 — val_precision: 0.670607 — val_recall 0.618100\n",
            "15000/15000 [==============================] - 3s 193us/sample - loss: 0.6919 - acc: 0.5547 - val_loss: 0.6905 - val_acc: 0.6181\n",
            "Epoch 2/90\n",
            "14848/15000 [============================>.] - ETA: 0s - loss: 0.6876 - acc: 0.6142 — val_f1: 0.691334 — val_precision: 0.731054 — val_recall 0.700600\n",
            "15000/15000 [==============================] - 2s 101us/sample - loss: 0.6876 - acc: 0.6138 - val_loss: 0.6843 - val_acc: 0.7006\n",
            "Epoch 3/90\n",
            "14848/15000 [============================>.] - ETA: 0s - loss: 0.6777 - acc: 0.6899 — val_f1: 0.760087 — val_precision: 0.762443 — val_recall 0.760400\n",
            "15000/15000 [==============================] - 2s 102us/sample - loss: 0.6776 - acc: 0.6899 - val_loss: 0.6714 - val_acc: 0.7604\n",
            "Epoch 4/90\n",
            "14848/15000 [============================>.] - ETA: 0s - loss: 0.6597 - acc: 0.7160 — val_f1: 0.774893 — val_precision: 0.774895 — val_recall 0.774900\n",
            "15000/15000 [==============================] - 2s 101us/sample - loss: 0.6597 - acc: 0.7157 - val_loss: 0.6496 - val_acc: 0.7749\n",
            "Epoch 5/90\n",
            "14848/15000 [============================>.] - ETA: 0s - loss: 0.6325 - acc: 0.7457 — val_f1: 0.788881 — val_precision: 0.789333 — val_recall 0.789000\n",
            "15000/15000 [==============================] - 1s 99us/sample - loss: 0.6325 - acc: 0.7450 - val_loss: 0.6192 - val_acc: 0.7890\n",
            "Epoch 6/90\n",
            "14848/15000 [============================>.] - ETA: 0s - loss: 0.5974 - acc: 0.7700 — val_f1: 0.805388 — val_precision: 0.810141 — val_recall 0.805900\n",
            "15000/15000 [==============================] - 2s 102us/sample - loss: 0.5971 - acc: 0.7706 - val_loss: 0.5822 - val_acc: 0.8059\n",
            "Epoch 7/90\n",
            "14848/15000 [============================>.] - ETA: 0s - loss: 0.5572 - acc: 0.7907 — val_f1: 0.825272 — val_precision: 0.825846 — val_recall 0.825300\n",
            "15000/15000 [==============================] - 2s 100us/sample - loss: 0.5569 - acc: 0.7909 - val_loss: 0.5398 - val_acc: 0.8253\n",
            "Epoch 8/90\n",
            "14848/15000 [============================>.] - ETA: 0s - loss: 0.5136 - acc: 0.8089 — val_f1: 0.837402 — val_precision: 0.837540 — val_recall 0.837400\n",
            "15000/15000 [==============================] - 1s 100us/sample - loss: 0.5134 - acc: 0.8090 - val_loss: 0.4982 - val_acc: 0.8374\n",
            "Epoch 9/90\n",
            "14848/15000 [============================>.] - ETA: 0s - loss: 0.4703 - acc: 0.8323 — val_f1: 0.847385 — val_precision: 0.848145 — val_recall 0.847500\n",
            "15000/15000 [==============================] - 1s 99us/sample - loss: 0.4702 - acc: 0.8321 - val_loss: 0.4601 - val_acc: 0.8475\n",
            "Epoch 10/90\n",
            "14848/15000 [============================>.] - ETA: 0s - loss: 0.4374 - acc: 0.8436 — val_f1: 0.857102 — val_precision: 0.857109 — val_recall 0.857100\n",
            "15000/15000 [==============================] - 2s 104us/sample - loss: 0.4372 - acc: 0.8434 - val_loss: 0.4270 - val_acc: 0.8571\n",
            "Epoch 11/90\n",
            "14848/15000 [============================>.] - ETA: 0s - loss: 0.4061 - acc: 0.8580 — val_f1: 0.862103 — val_precision: 0.862213 — val_recall 0.862100\n",
            "15000/15000 [==============================] - 2s 103us/sample - loss: 0.4060 - acc: 0.8581 - val_loss: 0.4005 - val_acc: 0.8621\n",
            "Epoch 12/90\n",
            "14848/15000 [============================>.] - ETA: 0s - loss: 0.3779 - acc: 0.8649 — val_f1: 0.867782 — val_precision: 0.867860 — val_recall 0.867800\n",
            "15000/15000 [==============================] - 2s 103us/sample - loss: 0.3777 - acc: 0.8651 - val_loss: 0.3778 - val_acc: 0.8678\n",
            "Epoch 13/90\n",
            "14848/15000 [============================>.] - ETA: 0s - loss: 0.3543 - acc: 0.8743 — val_f1: 0.871603 — val_precision: 0.871717 — val_recall 0.871600\n",
            "15000/15000 [==============================] - 2s 105us/sample - loss: 0.3540 - acc: 0.8747 - val_loss: 0.3593 - val_acc: 0.8716\n",
            "Epoch 14/90\n",
            "14848/15000 [============================>.] - ETA: 0s - loss: 0.3339 - acc: 0.8832 — val_f1: 0.872765 — val_precision: 0.872983 — val_recall 0.872800\n",
            "15000/15000 [==============================] - 2s 102us/sample - loss: 0.3340 - acc: 0.8831 - val_loss: 0.3448 - val_acc: 0.8728\n",
            "Epoch 15/90\n",
            "14848/15000 [============================>.] - ETA: 0s - loss: 0.3192 - acc: 0.8871 — val_f1: 0.878202 — val_precision: 0.878210 — val_recall 0.878200\n",
            "15000/15000 [==============================] - 2s 103us/sample - loss: 0.3187 - acc: 0.8873 - val_loss: 0.3321 - val_acc: 0.8782\n",
            "Epoch 16/90\n",
            "14848/15000 [============================>.] - ETA: 0s - loss: 0.2987 - acc: 0.8977 — val_f1: 0.881191 — val_precision: 0.881223 — val_recall 0.881200\n",
            "15000/15000 [==============================] - 2s 100us/sample - loss: 0.2989 - acc: 0.8978 - val_loss: 0.3209 - val_acc: 0.8812\n",
            "Epoch 17/90\n",
            "14848/15000 [============================>.] - ETA: 0s - loss: 0.2858 - acc: 0.9005 — val_f1: 0.881590 — val_precision: 0.881631 — val_recall 0.881600\n",
            "15000/15000 [==============================] - 2s 103us/sample - loss: 0.2854 - acc: 0.9009 - val_loss: 0.3124 - val_acc: 0.8816\n",
            "Epoch 18/90\n",
            "14848/15000 [============================>.] - ETA: 0s - loss: 0.2680 - acc: 0.9094 — val_f1: 0.881303 — val_precision: 0.881346 — val_recall 0.881300\n",
            "15000/15000 [==============================] - 2s 102us/sample - loss: 0.2680 - acc: 0.9096 - val_loss: 0.3057 - val_acc: 0.8813\n",
            "Epoch 19/90\n",
            "14848/15000 [============================>.] - ETA: 0s - loss: 0.2578 - acc: 0.9118 — val_f1: 0.883596 — val_precision: 0.883604 — val_recall 0.883600\n",
            "15000/15000 [==============================] - 2s 104us/sample - loss: 0.2581 - acc: 0.9115 - val_loss: 0.2991 - val_acc: 0.8836\n",
            "Epoch 20/90\n",
            "14848/15000 [============================>.] - ETA: 0s - loss: 0.2448 - acc: 0.9164 — val_f1: 0.883303 — val_precision: 0.883339 — val_recall 0.883300\n",
            "15000/15000 [==============================] - 2s 103us/sample - loss: 0.2449 - acc: 0.9163 - val_loss: 0.2942 - val_acc: 0.8833\n",
            "Epoch 21/90\n",
            "14848/15000 [============================>.] - ETA: 0s - loss: 0.2363 - acc: 0.9205 — val_f1: 0.884379 — val_precision: 0.884508 — val_recall 0.884400\n",
            "15000/15000 [==============================] - 2s 103us/sample - loss: 0.2362 - acc: 0.9207 - val_loss: 0.2901 - val_acc: 0.8844\n",
            "Epoch 22/90\n",
            "14848/15000 [============================>.] - ETA: 0s - loss: 0.2232 - acc: 0.9292 — val_f1: 0.885694 — val_precision: 0.885714 — val_recall 0.885700\n",
            "15000/15000 [==============================] - 2s 102us/sample - loss: 0.2235 - acc: 0.9293 - val_loss: 0.2865 - val_acc: 0.8857\n",
            "Epoch 23/90\n",
            "14848/15000 [============================>.] - ETA: 0s - loss: 0.2139 - acc: 0.9275 — val_f1: 0.884981 — val_precision: 0.885093 — val_recall 0.885000\n",
            "15000/15000 [==============================] - 2s 102us/sample - loss: 0.2135 - acc: 0.9277 - val_loss: 0.2852 - val_acc: 0.8850\n",
            "Epoch 24/90\n",
            "14848/15000 [============================>.] - ETA: 0s - loss: 0.2066 - acc: 0.9347 — val_f1: 0.885470 — val_precision: 0.885683 — val_recall 0.885500\n",
            "15000/15000 [==============================] - 2s 103us/sample - loss: 0.2063 - acc: 0.9349 - val_loss: 0.2826 - val_acc: 0.8855\n",
            "Epoch 25/90\n",
            "14848/15000 [============================>.] - ETA: 0s - loss: 0.2007 - acc: 0.9357 — val_f1: 0.887293 — val_precision: 0.887316 — val_recall 0.887300\n",
            "15000/15000 [==============================] - 2s 102us/sample - loss: 0.2007 - acc: 0.9357 - val_loss: 0.2805 - val_acc: 0.8873\n",
            "Epoch 26/90\n",
            "14336/15000 [===========================>..] - ETA: 0s - loss: 0.1869 - acc: 0.9422 — val_f1: 0.887596 — val_precision: 0.887605 — val_recall 0.887600\n",
            "15000/15000 [==============================] - 2s 103us/sample - loss: 0.1883 - acc: 0.9421 - val_loss: 0.2796 - val_acc: 0.8876\n",
            "Epoch 27/90\n",
            "14848/15000 [============================>.] - ETA: 0s - loss: 0.1808 - acc: 0.9448 — val_f1: 0.888391 — val_precision: 0.888427 — val_recall 0.888400\n",
            "15000/15000 [==============================] - 2s 102us/sample - loss: 0.1807 - acc: 0.9447 - val_loss: 0.2794 - val_acc: 0.8884\n",
            "Epoch 28/90\n",
            "14848/15000 [============================>.] - ETA: 0s - loss: 0.1720 - acc: 0.9475 — val_f1: 0.888402 — val_precision: 0.888415 — val_recall 0.888400\n",
            "15000/15000 [==============================] - 2s 108us/sample - loss: 0.1715 - acc: 0.9478 - val_loss: 0.2796 - val_acc: 0.8884\n",
            "Epoch 29/90\n",
            "14848/15000 [============================>.] - ETA: 0s - loss: 0.1676 - acc: 0.9486 — val_f1: 0.888584 — val_precision: 0.888676 — val_recall 0.888600\n",
            "15000/15000 [==============================] - 2s 110us/sample - loss: 0.1678 - acc: 0.9485 - val_loss: 0.2792 - val_acc: 0.8886\n",
            "Epoch 30/90\n",
            "14848/15000 [============================>.] - ETA: 0s - loss: 0.1633 - acc: 0.9517 — val_f1: 0.888265 — val_precision: 0.888536 — val_recall 0.888300\n",
            "15000/15000 [==============================] - 2s 111us/sample - loss: 0.1632 - acc: 0.9516 - val_loss: 0.2807 - val_acc: 0.8883\n",
            "Epoch 31/90\n",
            "14848/15000 [============================>.] - ETA: 0s - loss: 0.1552 - acc: 0.9535 — val_f1: 0.888302 — val_precision: 0.888310 — val_recall 0.888300\n",
            "15000/15000 [==============================] - 2s 109us/sample - loss: 0.1549 - acc: 0.9535 - val_loss: 0.2808 - val_acc: 0.8883\n",
            "Epoch 32/90\n",
            "14848/15000 [============================>.] - ETA: 0s - loss: 0.1490 - acc: 0.9585 — val_f1: 0.887289 — val_precision: 0.887343 — val_recall 0.887300\n",
            "15000/15000 [==============================] - 2s 107us/sample - loss: 0.1486 - acc: 0.9586 - val_loss: 0.2829 - val_acc: 0.8873\n",
            "Epoch 33/90\n",
            "14336/15000 [===========================>..] - ETA: 0s - loss: 0.1447 - acc: 0.9597 — val_f1: 0.887176 — val_precision: 0.887337 — val_recall 0.887200\n",
            "15000/15000 [==============================] - 2s 112us/sample - loss: 0.1441 - acc: 0.9597 - val_loss: 0.2834 - val_acc: 0.8872\n",
            "Epoch 34/90\n",
            "14848/15000 [============================>.] - ETA: 0s - loss: 0.1405 - acc: 0.9601 — val_f1: 0.887591 — val_precision: 0.887627 — val_recall 0.887600\n",
            "15000/15000 [==============================] - 2s 105us/sample - loss: 0.1404 - acc: 0.9602 - val_loss: 0.2848 - val_acc: 0.8876\n",
            "Epoch 35/90\n",
            "14848/15000 [============================>.] - ETA: 0s - loss: 0.1305 - acc: 0.9643 — val_f1: 0.887094 — val_precision: 0.887112 — val_recall 0.887100\n",
            "15000/15000 [==============================] - 2s 102us/sample - loss: 0.1307 - acc: 0.9644 - val_loss: 0.2870 - val_acc: 0.8871\n",
            "Epoch 36/90\n",
            "14848/15000 [============================>.] - ETA: 0s - loss: 0.1298 - acc: 0.9639 — val_f1: 0.885603 — val_precision: 0.885683 — val_recall 0.885600\n",
            "15000/15000 [==============================] - 2s 103us/sample - loss: 0.1298 - acc: 0.9638 - val_loss: 0.2896 - val_acc: 0.8856\n",
            "Epoch 37/90\n",
            "14848/15000 [============================>.] - ETA: 0s - loss: 0.1234 - acc: 0.9667 — val_f1: 0.886297 — val_precision: 0.886303 — val_recall 0.886300\n",
            "15000/15000 [==============================] - 2s 103us/sample - loss: 0.1236 - acc: 0.9667 - val_loss: 0.2910 - val_acc: 0.8863\n"
          ],
          "name": "stdout"
        }
      ]
    },
    {
      "cell_type": "code",
      "metadata": {
        "id": "bZVLWQM9Cebc",
        "colab_type": "code",
        "outputId": "0fe16f6a-a00d-4a21-a145-e2e7140b52c1",
        "colab": {
          "base_uri": "https://localhost:8080/",
          "height": 50
        }
      },
      "source": [
        "results = model.evaluate(test_data, test_labels)\n",
        "\n",
        "print(results)"
      ],
      "execution_count": 0,
      "outputs": [
        {
          "output_type": "stream",
          "text": [
            "25000/25000 [==============================] - 1s 54us/sample - loss: 0.3140 - acc: 0.8762\n",
            "[0.31400525485515596, 0.8762]\n"
          ],
          "name": "stdout"
        }
      ]
    },
    {
      "cell_type": "code",
      "metadata": {
        "id": "Qmb4YHyVChJk",
        "colab_type": "code",
        "outputId": "8b67d837-b3e1-4f71-deee-3121a921d679",
        "colab": {
          "base_uri": "https://localhost:8080/",
          "height": 34
        }
      },
      "source": [
        "history_dict = history.history\n",
        "history_dict.keys()"
      ],
      "execution_count": 0,
      "outputs": [
        {
          "output_type": "execute_result",
          "data": {
            "text/plain": [
              "dict_keys(['loss', 'acc', 'val_loss', 'val_acc'])"
            ]
          },
          "metadata": {
            "tags": []
          },
          "execution_count": 448
        }
      ]
    },
    {
      "cell_type": "code",
      "metadata": {
        "id": "Bv7M69P3CkJk",
        "colab_type": "code",
        "outputId": "c38dc275-7455-409a-8fe3-2f321e8bc726",
        "colab": {
          "base_uri": "https://localhost:8080/",
          "height": 295
        }
      },
      "source": [
        "import matplotlib.pyplot as plt\n",
        "\n",
        "acc = history.history['acc']\n",
        "val_acc = history.history['val_acc']\n",
        "loss = history.history['loss']\n",
        "val_loss = history.history['val_loss']\n",
        "\n",
        "epochs = range(1, len(acc) + 1)\n",
        "\n",
        "# \"bo\" is for \"blue dot\"\n",
        "plt.plot(epochs, loss, 'bo', label='Training loss')\n",
        "# b is for \"solid blue line\"\n",
        "plt.plot(epochs, val_loss, 'r', label='Validation loss')\n",
        "plt.title('Training and validation loss')\n",
        "plt.xlabel('Epochs')\n",
        "plt.ylabel('Loss')\n",
        "plt.legend()\n",
        "\n",
        "plt.show()"
      ],
      "execution_count": 0,
      "outputs": [
        {
          "output_type": "display_data",
          "data": {
            "image/png": "[encoded data removed]",
            "text/plain": [
              "<Figure size 432x288 with 1 Axes>"
            ]
          },
          "metadata": {
            "tags": []
          }
        }
      ]
    },
    {
      "cell_type": "code",
      "metadata": {
        "id": "lugZQKEgCpqG",
        "colab_type": "code",
        "outputId": "602c6b03-dd22-4f3e-b161-58f2ca9414db",
        "colab": {
          "base_uri": "https://localhost:8080/",
          "height": 295
        }
      },
      "source": [
        "plt.clf()   # clear figure\n",
        "acc_values = history_dict['acc']\n",
        "val_acc_values = history_dict['val_acc']\n",
        "\n",
        "plt.plot(epochs, acc, 'bo', label='Training acc')\n",
        "plt.plot(epochs, val_acc, color='red', marker='x', linestyle='dashed',\n",
        "        linewidth=0.5, markersize=5,label='Validation acc')\n",
        "plt.title('Training and validation accuracy')\n",
        "plt.xlabel('Epochs')\n",
        "plt.ylabel('Loss')\n",
        "plt.legend()\n",
        "\n",
        "plt.show()"
      ],
      "execution_count": 0,
      "outputs": [
        {
          "output_type": "display_data",
          "data": {
            "image/png": "[encoded data removed]",
            "text/plain": [
              "<Figure size 432x288 with 1 Axes>"
            ]
          },
          "metadata": {
            "tags": []
          }
        }
      ]
    }
  ]
}